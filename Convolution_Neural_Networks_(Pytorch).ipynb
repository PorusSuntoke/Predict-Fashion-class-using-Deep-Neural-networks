{
  "nbformat": 4,
  "nbformat_minor": 0,
  "metadata": {
    "colab": {
      "name": "Convolution Neural Networks (Pytorch).ipynb",
      "provenance": [],
      "collapsed_sections": [],
      "authorship_tag": "ABX9TyP6GrmexjSj8JcYkhf1jdW8",
      "include_colab_link": true
    },
    "kernelspec": {
      "name": "python3",
      "display_name": "Python 3"
    },
    "accelerator": "GPU"
  },
  "cells": [
    {
      "cell_type": "markdown",
      "metadata": {
        "id": "view-in-github",
        "colab_type": "text"
      },
      "source": [
        "<a href=\"https://colab.research.google.com/github/PorusSuntoke/Predict-Fashion-class-using-Deep-Neural-networks/blob/main/Convolution_Neural_Networks_(Pytorch).ipynb\" target=\"_parent\"><img src=\"https://colab.research.google.com/assets/colab-badge.svg\" alt=\"Open In Colab\"/></a>"
      ]
    },
    {
      "cell_type": "code",
      "metadata": {
        "id": "f_MHGmHGiZcI",
        "outputId": "a11dbe24-e208-4782-c7b7-b061284f2edb",
        "colab": {
          "base_uri": "https://localhost:8080/",
          "height": 110
        }
      },
      "source": [
        "!pip3 install torch torchvision"
      ],
      "execution_count": null,
      "outputs": [
        {
          "output_type": "stream",
          "text": [
            "Requirement already satisfied: torch in /usr/local/lib/python3.6/dist-packages (1.5.0+cu101)\n",
            "Requirement already satisfied: torchvision in /usr/local/lib/python3.6/dist-packages (0.6.0+cu101)\n",
            "Requirement already satisfied: numpy in /usr/local/lib/python3.6/dist-packages (from torch) (1.18.4)\n",
            "Requirement already satisfied: future in /usr/local/lib/python3.6/dist-packages (from torch) (0.16.0)\n",
            "Requirement already satisfied: pillow>=4.1.1 in /usr/local/lib/python3.6/dist-packages (from torchvision) (7.0.0)\n"
          ],
          "name": "stdout"
        }
      ]
    },
    {
      "cell_type": "code",
      "metadata": {
        "id": "fq8bRt0jkVs5"
      },
      "source": [
        "import torch\n",
        "import numpy as np\n",
        "import torch.nn.functional as F\n",
        "from torch import nn\n",
        "import matplotlib.pyplot as plt\n",
        "from torchvision import datasets, transforms\n",
        "\n",
        "import PIL.ImageOps"
      ],
      "execution_count": null,
      "outputs": []
    },
    {
      "cell_type": "code",
      "metadata": {
        "id": "Lp5k_sebu-5F"
      },
      "source": [
        "device = torch.device(\"cuda:0\" if torch.cuda.is_available() else \"cpu\")"
      ],
      "execution_count": null,
      "outputs": []
    },
    {
      "cell_type": "code",
      "metadata": {
        "id": "NhU_LjG2kcYF",
        "outputId": "d3d79128-0524-46f1-b448-2508607d22c3",
        "colab": {
          "base_uri": "https://localhost:8080/",
          "height": 204
        }
      },
      "source": [
        "transform = transforms.Compose([transforms.Resize((28,28)),\n",
        "                                transforms.ToTensor(),\n",
        "                                transforms.Normalize((0.5, ), (0.5, ))\n",
        "                                ])\n",
        "training_dataset = datasets.MNIST(root='./data', train = True, download = True, transform = transform)\n",
        "validation_dataset = datasets.MNIST(root='./data', train = False, download = True, transform = transform)\n",
        "training_dataset"
      ],
      "execution_count": null,
      "outputs": [
        {
          "output_type": "execute_result",
          "data": {
            "text/plain": [
              "Dataset MNIST\n",
              "    Number of datapoints: 60000\n",
              "    Root location: ./data\n",
              "    Split: Train\n",
              "    StandardTransform\n",
              "Transform: Compose(\n",
              "               Resize(size=(28, 28), interpolation=PIL.Image.BILINEAR)\n",
              "               ToTensor()\n",
              "               Normalize(mean=(0.5,), std=(0.5,))\n",
              "           )"
            ]
          },
          "metadata": {
            "tags": []
          },
          "execution_count": 22
        }
      ]
    },
    {
      "cell_type": "code",
      "metadata": {
        "id": "4w395WPfkfty"
      },
      "source": [
        "training_loader = torch.utils.data.DataLoader(dataset = training_dataset, batch_size = 100, shuffle = True)\n",
        "validation_loader = torch.utils.data.DataLoader(dataset = validation_dataset, batch_size = 100, shuffle = False)"
      ],
      "execution_count": null,
      "outputs": []
    },
    {
      "cell_type": "code",
      "metadata": {
        "id": "xg7NjIRAklyk"
      },
      "source": [
        "def im_convert(tensor):\n",
        "  image = tensor.cpu().clone().detach().numpy()\n",
        "  image = image.transpose(1, 2, 0)\n",
        "  print(image.shape)\n",
        "  image = image * np.array((0.5, 0.5, 0.5)) + np.array((0.5, 0.5, 0.5))\n",
        "  image = image.clip(0, 1)\n",
        "  return image"
      ],
      "execution_count": null,
      "outputs": []
    },
    {
      "cell_type": "code",
      "metadata": {
        "id": "3j0cF0Wsko72",
        "outputId": "87525e21-78dc-4a3e-b0af-6bb1930edd7b",
        "colab": {
          "base_uri": "https://localhost:8080/",
          "height": 655
        }
      },
      "source": [
        "dataiter = iter(training_loader)\n",
        "images, labels = dataiter.next()\n",
        "fig = plt.figure(figsize = (25, 4))\n",
        "\n",
        "for idx in np.arange(20):\n",
        "  ax = fig.add_subplot(2, 10, idx+1)\n",
        "  plt.imshow(im_convert(images[idx]))\n",
        "  ax.set_title([labels[idx].item()])"
      ],
      "execution_count": null,
      "outputs": [
        {
          "output_type": "stream",
          "text": [
            "(28, 28, 1)\n",
            "(28, 28, 1)\n",
            "(28, 28, 1)\n",
            "(28, 28, 1)\n",
            "(28, 28, 1)\n",
            "(28, 28, 1)\n",
            "(28, 28, 1)\n",
            "(28, 28, 1)\n",
            "(28, 28, 1)\n",
            "(28, 28, 1)\n",
            "(28, 28, 1)\n",
            "(28, 28, 1)\n",
            "(28, 28, 1)\n",
            "(28, 28, 1)\n",
            "(28, 28, 1)\n",
            "(28, 28, 1)\n",
            "(28, 28, 1)\n",
            "(28, 28, 1)\n",
            "(28, 28, 1)\n",
            "(28, 28, 1)\n"
          ],
          "name": "stdout"
        },
        {
          "output_type": "display_data",
          "data": {
            "image/png": "[encoded data removed]",
            "text/plain": [
              "<Figure size 1800x288 with 20 Axes>"
            ]
          },
          "metadata": {
            "tags": [],
            "needs_background": "light"
          }
        }
      ]
    },
    {
      "cell_type": "code",
      "metadata": {
        "id": "Lv_vDFgzksVM"
      },
      "source": [
        "class LeNet(nn.Module):\n",
        "\n",
        "  def __init__(self):\n",
        "    super().__init__()\n",
        "    self.conv1 = nn.Conv2d(1, 20, 5, 1)\n",
        "    self.conv2 = nn.Conv2d(20, 50, 5, 1)\n",
        "    self.fc1 = nn.Linear(4*4*50, 500)\n",
        "    self.dropout1 = nn.Dropout(0.5)\n",
        "    self.fc2 = nn.Linear(500, 10)\n",
        "\n",
        "  def forward(self, x):\n",
        "    x = F.relu(self.conv1(x))\n",
        "    x = F.max_pool2d(x, 2, 2)\n",
        "    x = F.relu(self.conv2(x))\n",
        "    x = F.max_pool2d(x, 2, 2)\n",
        "    x = x.view(-1, 4*4*50)\n",
        "    x = F.relu(self.fc1(x))\n",
        "    x = self.dropout1(x)\n",
        "    x = self.fc2(x)\n",
        "    return x\n"
      ],
      "execution_count": null,
      "outputs": []
    },
    {
      "cell_type": "code",
      "metadata": {
        "id": "cIZgkTRqtlsp",
        "outputId": "03a2ebf0-18e7-40be-ee5b-a2b55c93ae20",
        "colab": {
          "base_uri": "https://localhost:8080/",
          "height": 148
        }
      },
      "source": [
        "model = LeNet().to(device)\n",
        "model"
      ],
      "execution_count": null,
      "outputs": [
        {
          "output_type": "execute_result",
          "data": {
            "text/plain": [
              "LeNet(\n",
              "  (conv1): Conv2d(1, 20, kernel_size=(5, 5), stride=(1, 1))\n",
              "  (conv2): Conv2d(20, 50, kernel_size=(5, 5), stride=(1, 1))\n",
              "  (fc1): Linear(in_features=800, out_features=500, bias=True)\n",
              "  (dropout1): Dropout(p=0.5, inplace=False)\n",
              "  (fc2): Linear(in_features=500, out_features=10, bias=True)\n",
              ")"
            ]
          },
          "metadata": {
            "tags": []
          },
          "execution_count": 27
        }
      ]
    },
    {
      "cell_type": "code",
      "metadata": {
        "id": "e18TExcTtpdJ"
      },
      "source": [
        "criterion = nn.CrossEntropyLoss()\n",
        "optimizer = torch.optim.Adam(model.parameters(), lr = 0.0001)"
      ],
      "execution_count": null,
      "outputs": []
    },
    {
      "cell_type": "code",
      "metadata": {
        "id": "CozUc2LewDd-",
        "outputId": "9f15bf5d-75c6-48f9-e181-d867ce87b226",
        "colab": {
          "base_uri": "https://localhost:8080/",
          "height": 858
        }
      },
      "source": [
        "epochs = 15\n",
        "running_loss_history = []\n",
        "running_corrects_history = []\n",
        "val_running_loss_history = []\n",
        "val_running_corrects_history = []\n",
        "\n",
        "for e in range(epochs):\n",
        "  \n",
        "  running_loss = 0.0\n",
        "  running_corrects = 0.0\n",
        "  val_running_loss = 0.0\n",
        "  val_running_corrects = 0.0\n",
        "\n",
        "  for inputs, labels in training_loader:\n",
        "    inputs = inputs.to(device)\n",
        "    labels = labels.to(device)\n",
        "    outputs = model(inputs)\n",
        "    loss = criterion(outputs, labels)\n",
        "\n",
        "    optimizer.zero_grad()\n",
        "    loss.backward()\n",
        "    optimizer.step()\n",
        "\n",
        "    _, preds = torch.max(outputs, 1)\n",
        "    running_loss += loss.item()\n",
        "    running_corrects += torch.sum(preds == labels.data)\n",
        "\n",
        "  else:\n",
        "    with torch.no_grad():\n",
        "      for val_inputs, val_labels in validation_loader:\n",
        "        val_inputs = val_inputs.to(device)\n",
        "        val_labels = val_labels.to(device)\n",
        "        val_outputs = model(val_inputs)\n",
        "        val_loss = criterion(val_outputs, val_labels)\n",
        "\n",
        "        _, val_preds = torch.max(val_outputs, 1)\n",
        "        val_running_loss += val_loss.item()\n",
        "        val_running_corrects += torch.sum(val_preds == val_labels.data)\n",
        "\n",
        "\n",
        "    epoch_loss = running_loss/ len(training_loader)\n",
        "    epoch_acc = running_corrects.float()/ len(training_loader)\n",
        "    running_loss_history.append(epoch_loss)\n",
        "    running_corrects_history.append(epoch_acc)\n",
        "    print('epoch:', (e+1))\n",
        "    print('training loss: {:.4f}, accuracy: {:.4f} '.format(epoch_loss, epoch_acc.item()))\n",
        "\n",
        "    val_epoch_loss = val_running_loss/ len(validation_loader)\n",
        "    val_epoch_acc = val_running_corrects.float()/ len(validation_loader)\n",
        "    val_running_loss_history.append(val_epoch_loss)\n",
        "    val_running_corrects_history.append(val_epoch_acc)\n",
        "    print('validation loss: {:.4f}, validation accuracy: {:.4f} '.format(val_epoch_loss, val_epoch_acc.item()))"
      ],
      "execution_count": null,
      "outputs": [
        {
          "output_type": "stream",
          "text": [
            "epoch: 1\n",
            "training loss: 0.5752, accuracy: 83.9233 \n",
            "validation loss: 0.1860, validation accuracy: 94.5800 \n",
            "epoch: 2\n",
            "training loss: 0.1515, accuracy: 95.5200 \n",
            "validation loss: 0.1049, validation accuracy: 96.7300 \n",
            "epoch: 3\n",
            "training loss: 0.1011, accuracy: 97.0250 \n",
            "validation loss: 0.0764, validation accuracy: 97.6900 \n",
            "epoch: 4\n",
            "training loss: 0.0795, accuracy: 97.5783 \n",
            "validation loss: 0.0631, validation accuracy: 98.0700 \n",
            "epoch: 5\n",
            "training loss: 0.0669, accuracy: 97.9883 \n",
            "validation loss: 0.0527, validation accuracy: 98.3800 \n",
            "epoch: 6\n",
            "training loss: 0.0577, accuracy: 98.2267 \n",
            "validation loss: 0.0478, validation accuracy: 98.5800 \n",
            "epoch: 7\n",
            "training loss: 0.0507, accuracy: 98.4533 \n",
            "validation loss: 0.0448, validation accuracy: 98.5200 \n",
            "epoch: 8\n",
            "training loss: 0.0454, accuracy: 98.5967 \n",
            "validation loss: 0.0383, validation accuracy: 98.7600 \n",
            "epoch: 9\n",
            "training loss: 0.0408, accuracy: 98.7367 \n",
            "validation loss: 0.0416, validation accuracy: 98.5600 \n",
            "epoch: 10\n",
            "training loss: 0.0375, accuracy: 98.8467 \n",
            "validation loss: 0.0358, validation accuracy: 98.7400 \n",
            "epoch: 11\n",
            "training loss: 0.0342, accuracy: 98.9150 \n",
            "validation loss: 0.0368, validation accuracy: 98.7900 \n",
            "epoch: 12\n",
            "training loss: 0.0314, accuracy: 99.0183 \n",
            "validation loss: 0.0342, validation accuracy: 98.9000 \n",
            "epoch: 13\n",
            "training loss: 0.0296, accuracy: 99.1133 \n",
            "validation loss: 0.0327, validation accuracy: 99.0100 \n",
            "epoch: 14\n",
            "training loss: 0.0262, accuracy: 99.1983 \n",
            "validation loss: 0.0311, validation accuracy: 99.0800 \n",
            "epoch: 15\n",
            "training loss: 0.0250, accuracy: 99.2533 \n",
            "validation loss: 0.0291, validation accuracy: 99.0300 \n"
          ],
          "name": "stdout"
        }
      ]
    },
    {
      "cell_type": "code",
      "metadata": {
        "id": "8dJNfV9exUJh",
        "outputId": "54db7749-5179-4a23-87b4-e0dd34908150",
        "colab": {
          "base_uri": "https://localhost:8080/",
          "height": 287
        }
      },
      "source": [
        "plt.plot(running_loss_history, label = 'training loss')\n",
        "plt.plot(val_running_loss_history, label = 'validation loss')\n",
        "plt.legend()"
      ],
      "execution_count": null,
      "outputs": [
        {
          "output_type": "execute_result",
          "data": {
            "text/plain": [
              "<matplotlib.legend.Legend at 0x7f0731d19a58>"
            ]
          },
          "metadata": {
            "tags": []
          },
          "execution_count": 30
        },
        {
          "output_type": "display_data",
          "data": {
            "image/png": "[encoded data removed]",
            "text/plain": [
              "<Figure size 432x288 with 1 Axes>"
            ]
          },
          "metadata": {
            "tags": [],
            "needs_background": "light"
          }
        }
      ]
    },
    {
      "cell_type": "code",
      "metadata": {
        "id": "fX07wxXRxZZJ",
        "outputId": "ff529dd3-0954-4b14-8d21-14c8a4d86f7a",
        "colab": {
          "base_uri": "https://localhost:8080/",
          "height": 288
        }
      },
      "source": [
        "plt.plot(running_corrects_history, label = 'training accuracy')\n",
        "plt.plot(val_running_corrects_history, label = 'validation accuracy')"
      ],
      "execution_count": null,
      "outputs": [
        {
          "output_type": "execute_result",
          "data": {
            "text/plain": [
              "[<matplotlib.lines.Line2D at 0x7f073078c208>]"
            ]
          },
          "metadata": {
            "tags": []
          },
          "execution_count": 31
        },
        {
          "output_type": "display_data",
          "data": {
            "image/png": "[encoded data removed]",
            "text/plain": [
              "<Figure size 432x288 with 1 Axes>"
            ]
          },
          "metadata": {
            "tags": [],
            "needs_background": "light"
          }
        }
      ]
    },
    {
      "cell_type": "code",
      "metadata": {
        "id": "jHyHQznKxejE",
        "outputId": "513582be-a75a-4855-e1dc-79211703faeb",
        "colab": {
          "base_uri": "https://localhost:8080/",
          "height": 288
        }
      },
      "source": [
        "import requests\n",
        "from PIL import Image\n",
        "url = 'https://images.homedepot-static.com/productImages/007164ea-d47e-4f66-8d8c-fd9f621984a2/svn/architectural-mailboxes-house-letters-numbers-3585b-5-64_1000.jpg'\n",
        "response = requests.get(url, stream = True)\n",
        "img = Image.open(response.raw)\n",
        "plt.imshow(img)\n",
        "print(response)"
      ],
      "execution_count": null,
      "outputs": [
        {
          "output_type": "stream",
          "text": [
            "<Response [200]>\n"
          ],
          "name": "stdout"
        },
        {
          "output_type": "display_data",
          "data": {
            "image/png": "[encoded data removed]",
            "text/plain": [
              "<Figure size 432x288 with 1 Axes>"
            ]
          },
          "metadata": {
            "tags": [],
            "needs_background": "light"
          }
        }
      ]
    },
    {
      "cell_type": "code",
      "metadata": {
        "id": "b29mPbWTxfp4",
        "outputId": "814acd3f-dec4-463d-afed-a6dfa4e91ee6",
        "colab": {
          "base_uri": "https://localhost:8080/",
          "height": 302
        }
      },
      "source": [
        "img = PIL.ImageOps.invert(img)\n",
        "img = img.convert('1')\n",
        "img = transform(img)\n",
        "plt.imshow(im_convert(img))"
      ],
      "execution_count": null,
      "outputs": [
        {
          "output_type": "stream",
          "text": [
            "(28, 28, 1)\n"
          ],
          "name": "stdout"
        },
        {
          "output_type": "execute_result",
          "data": {
            "text/plain": [
              "<matplotlib.image.AxesImage at 0x7f07318e3898>"
            ]
          },
          "metadata": {
            "tags": []
          },
          "execution_count": 33
        },
        {
          "output_type": "display_data",
          "data": {
            "image/png": "[encoded data removed]",
            "text/plain": [
              "<Figure size 432x288 with 1 Axes>"
            ]
          },
          "metadata": {
            "tags": [],
            "needs_background": "light"
          }
        }
      ]
    },
    {
      "cell_type": "code",
      "metadata": {
        "id": "qys2sTt7xmuh",
        "outputId": "cc1a353c-4916-48ac-fdf3-3e452fc20e8f",
        "colab": {
          "base_uri": "https://localhost:8080/",
          "height": 36
        }
      },
      "source": [
        "images = img.to(device)\n",
        "image = images[0].unsqueeze(0).unsqueeze(0)\n",
        "output = model(image)\n",
        "_, pred = torch.max(output, 1)\n",
        "print(pred.item())"
      ],
      "execution_count": null,
      "outputs": [
        {
          "output_type": "stream",
          "text": [
            "5\n"
          ],
          "name": "stdout"
        }
      ]
    },
    {
      "cell_type": "code",
      "metadata": {
        "id": "Am2F7OXdxv3I",
        "outputId": "28e12fc3-68d0-4057-8053-0123be607e64",
        "colab": {
          "base_uri": "https://localhost:8080/",
          "height": 642
        }
      },
      "source": [
        "dataiter = iter(validation_loader)\n",
        "images, labels = dataiter.next()\n",
        "images = images.to(device)\n",
        "labels = labels.to(device)\n",
        "output = model(images)\n",
        "_, preds = torch.max(output, 1)\n",
        "\n",
        "fig = plt.figure(figsize = (25, 4))\n",
        "\n",
        "for idx in np.arange(20):\n",
        "  ax = fig.add_subplot(2, 10, idx+1, xticks = [], yticks = [])\n",
        "  plt.imshow(im_convert(images[idx]))\n",
        "  ax.set_title(\"{} ({})\".format(str(preds[idx].item()), str(labels[idx].item())), color = (\"green\" if preds[idx]== labels[idx] else \"red\"))"
      ],
      "execution_count": null,
      "outputs": [
        {
          "output_type": "stream",
          "text": [
            "(28, 28, 1)\n",
            "(28, 28, 1)\n",
            "(28, 28, 1)\n",
            "(28, 28, 1)\n",
            "(28, 28, 1)\n",
            "(28, 28, 1)\n",
            "(28, 28, 1)\n",
            "(28, 28, 1)\n",
            "(28, 28, 1)\n",
            "(28, 28, 1)\n",
            "(28, 28, 1)\n",
            "(28, 28, 1)\n",
            "(28, 28, 1)\n",
            "(28, 28, 1)\n",
            "(28, 28, 1)\n",
            "(28, 28, 1)\n",
            "(28, 28, 1)\n",
            "(28, 28, 1)\n",
            "(28, 28, 1)\n",
            "(28, 28, 1)\n"
          ],
          "name": "stdout"
        },
        {
          "output_type": "display_data",
          "data": {
            "image/png": "[encoded data removed]",
            "text/plain": [
              "<Figure size 1800x288 with 20 Axes>"
            ]
          },
          "metadata": {
            "tags": []
          }
        }
      ]
    }
  ]
}